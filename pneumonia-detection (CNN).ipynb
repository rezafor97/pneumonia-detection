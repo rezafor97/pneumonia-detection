{
  "nbformat": 4,
  "nbformat_minor": 0,
  "metadata": {
    "accelerator": "GPU",
    "colab": {
      "name": "conv for pne (final).ipynb",
      "provenance": []
    },
    "kernelspec": {
      "display_name": "Python 3",
      "language": "python",
      "name": "python3"
    }
  },
  "cells": [
    {
      "cell_type": "code",
      "metadata": {
        "colab": {
          "base_uri": "https://localhost:8080/"
        },
        "id": "HbrrqfmFoSRp",
        "outputId": "ce02d114-4a47-40fb-d2f9-13b86b9b9d2b"
      },
      "source": [
        "from google.colab import drive\n",
        "drive.mount('/content/drive')"
      ],
      "execution_count": 26,
      "outputs": [
        {
          "output_type": "stream",
          "text": [
            "Drive already mounted at /content/drive; to attempt to forcibly remount, call drive.mount(\"/content/drive\", force_remount=True).\n"
          ],
          "name": "stdout"
        }
      ]
    },
    {
      "cell_type": "code",
      "metadata": {
        "id": "pzicW5fkp9LO"
      },
      "source": [
        "import tensorflow as tf\n",
        "from tensorflow.keras import models\n",
        "from tensorflow.keras import layers\n",
        "from tensorflow.keras import regularizers\n",
        "import numpy as np\n",
        "from tensorflow.keras import optimizers\n",
        "from tensorflow.keras.preprocessing.image import ImageDataGenerator\n",
        "import matplotlib.pyplot as plt\n",
        "from tensorflow.keras.layers import LeakyReLU\n",
        "from tensorflow.keras.callbacks import ModelCheckpoint\n",
        "\n",
        "import os\n",
        "import glob\n",
        "import scipy"
      ],
      "execution_count": 27,
      "outputs": []
    },
    {
      "cell_type": "code",
      "metadata": {
        "id": "fNhWPHdHlKdH"
      },
      "source": [
        ""
      ],
      "execution_count": 27,
      "outputs": []
    },
    {
      "cell_type": "code",
      "metadata": {
        "id": "iFkqv8WuqK94"
      },
      "source": [
        "def directory():\n",
        "    train_dir = \"/content/drive/MyDrive/ML Project/Pneumonia//train\"\n",
        "    valid_dir = \"/content/drive/MyDrive/ML Project/Pneumonia/valid\"\n",
        "    test_dir = \"/content/drive/MyDrive/ML Project/Pneumonia/test\"\n",
        "    return train_dir,valid_dir,test_dir\n",
        "train_dir,valid_dir,test_dir=directory()"
      ],
      "execution_count": 28,
      "outputs": []
    },
    {
      "cell_type": "code",
      "metadata": {
        "colab": {
          "base_uri": "https://localhost:8080/"
        },
        "id": "-ztIg-PxqO6z",
        "outputId": "c8aee960-1792-4964-eda8-03940287dc0a"
      },
      "source": [
        "\n",
        "\n",
        "def preprocess(train_dir,valid_dir,test_dir,batch_size,target_size,rescale,zoom_range,vertical_flip):\n",
        "    train_datagen=ImageDataGenerator(rescale=rescale,zoom_range=zoom_range ,vertical_flip=vertical_flip)\n",
        "    test_datagen=ImageDataGenerator(rescale=rescale)\n",
        "    valid_datagen=ImageDataGenerator(rescale=rescale)\n",
        "\n",
        "    train_generator = train_datagen.flow_from_directory(train_dir,target_size=target_size,batch_size=batch_size,class_mode=\"binary\")\n",
        "\n",
        "    valid_generator = valid_datagen.flow_from_directory(valid_dir,target_size=target_size,batch_size=batch_size,class_mode=\"binary\")\n",
        "\n",
        "    test_generator = test_datagen.flow_from_directory(test_dir,target_size=target_size,batch_size=batch_size,class_mode=\"binary\")\n",
        "\n",
        "\n",
        "    return train_generator,valid_generator,test_generator\n",
        "\n",
        "    \n",
        "train_set,valid_set,test_set=preprocess(train_dir,valid_dir,test_dir,batch_size=28,target_size=(150,150),rescale=1./255.,zoom_range=0.3,vertical_flip=True)\n",
        "\n"
      ],
      "execution_count": 29,
      "outputs": [
        {
          "output_type": "stream",
          "text": [
            "Found 5216 images belonging to 2 classes.\n",
            "Found 16 images belonging to 2 classes.\n",
            "Found 624 images belonging to 2 classes.\n"
          ],
          "name": "stdout"
        }
      ]
    },
    {
      "cell_type": "code",
      "metadata": {
        "id": "nqqbjxToqRUP"
      },
      "source": [
        "\n",
        "def model(input_shape,activation,lr):\n",
        "    model = models.Sequential()\n",
        "    model.add(layers.Conv2D(32, (5, 5), activation='relu',padding='same',\n",
        "                        input_shape=(150, 150, 3)))\n",
        "    model.add(layers.Conv2D(64, (5,5), activation='relu',padding='same'))\n",
        "    model.add(layers.MaxPooling2D((2, 2)))\n",
        "    model.add(layers.Conv2D(128, (3, 3), activation='relu',padding='same',kernel_regularizer=regularizers.l2(0.001)))\n",
        "    model.add(layers.Dropout(0.2))\n",
        "    model.add(layers.MaxPooling2D((2, 2)))\n",
        "    model.add(layers.Conv2D(256, (3, 3), activation='relu',padding='same',kernel_regularizer=regularizers.l2(0.001)))\n",
        "    model.add(layers.MaxPooling2D((2, 2)))\n",
        "    model.add(layers.Conv2D(512, (3, 3), activation='relu',padding='same',kernel_regularizer=regularizers.l2(0.001)))\n",
        "    model.add(layers.Dropout(0.2))\n",
        "    model.add(layers.MaxPooling2D((2, 2)))\n",
        "    model.add(layers.Flatten())\n",
        "    model.add(layers.Dense(128, activation='relu'))\n",
        "    model.add(layers.Dense(256, activation='relu'))\n",
        "    model.add(layers.Dropout(0.2))\n",
        "    model.add(layers.Dense(128, activation='relu'))\n",
        "    model.add(layers.Dense(1, activation='sigmoid'))\n",
        "    model.compile(optimizer=optimizers.RMSprop(lr=lr),loss='binary_crossentropy',metrics=['accuracy'])\n",
        "    return model\n",
        "model=model(input_shape=(150,150,3),activation='relu',lr=0.0005)"
      ],
      "execution_count": 30,
      "outputs": []
    },
    {
      "cell_type": "code",
      "metadata": {
        "colab": {
          "base_uri": "https://localhost:8080/"
        },
        "id": "zcSQMf6uqXOR",
        "outputId": "303a0ffd-535d-40a9-a2be-9cbbf4872605"
      },
      "source": [
        "def train(train_set,valid_set,epochs,batch_size):\n",
        "    filepath=\"weights-improvement.hdf5\"\n",
        "    checkpoint = ModelCheckpoint(filepath,monitor='val_loss', verbose=1, save_best_only=True,\n",
        "    save_weights_only=True, mode='auto')\n",
        "    callbacks_list = [checkpoint]\n",
        "    history = model.fit_generator(train_set, steps_per_epoch=train_set.samples // batch_size, \n",
        "           epochs=epochs, validation_data=valid_set,callbacks=callbacks_list)\n",
        "    return history\n",
        "\n",
        "\n",
        "train_history=train(train_set,valid_set,epochs=50,batch_size=28)\n"
      ],
      "execution_count": 31,
      "outputs": [
        {
          "output_type": "stream",
          "text": [
            "/usr/local/lib/python3.6/dist-packages/tensorflow/python/keras/engine/training.py:1844: UserWarning: `Model.fit_generator` is deprecated and will be removed in a future version. Please use `Model.fit`, which supports generators.\n",
            "  warnings.warn('`Model.fit_generator` is deprecated and '\n"
          ],
          "name": "stderr"
        },
        {
          "output_type": "stream",
          "text": [
            "Epoch 1/50\n",
            "186/186 [==============================] - 79s 419ms/step - loss: 0.8733 - accuracy: 0.7357 - val_loss: 0.6369 - val_accuracy: 0.6875\n",
            "\n",
            "Epoch 00001: val_loss improved from inf to 0.63685, saving model to weights-improvement.hdf5\n",
            "Epoch 2/50\n",
            "186/186 [==============================] - 79s 421ms/step - loss: 0.4759 - accuracy: 0.7917 - val_loss: 0.5117 - val_accuracy: 0.8750\n",
            "\n",
            "Epoch 00002: val_loss improved from 0.63685 to 0.51171, saving model to weights-improvement.hdf5\n",
            "Epoch 3/50\n",
            "186/186 [==============================] - 78s 421ms/step - loss: 0.3874 - accuracy: 0.8402 - val_loss: 0.6462 - val_accuracy: 0.7500\n",
            "\n",
            "Epoch 00003: val_loss did not improve from 0.51171\n",
            "Epoch 4/50\n",
            "186/186 [==============================] - 79s 422ms/step - loss: 0.3492 - accuracy: 0.8666 - val_loss: 0.5208 - val_accuracy: 0.8125\n",
            "\n",
            "Epoch 00004: val_loss did not improve from 0.51171\n",
            "Epoch 5/50\n",
            "186/186 [==============================] - 78s 421ms/step - loss: 0.3177 - accuracy: 0.8741 - val_loss: 0.6143 - val_accuracy: 0.8125\n",
            "\n",
            "Epoch 00005: val_loss did not improve from 0.51171\n",
            "Epoch 6/50\n",
            "186/186 [==============================] - 78s 422ms/step - loss: 0.2703 - accuracy: 0.8905 - val_loss: 0.5374 - val_accuracy: 0.8750\n",
            "\n",
            "Epoch 00006: val_loss did not improve from 0.51171\n",
            "Epoch 7/50\n",
            "186/186 [==============================] - 79s 422ms/step - loss: 0.2688 - accuracy: 0.9014 - val_loss: 0.6433 - val_accuracy: 0.7500\n",
            "\n",
            "Epoch 00007: val_loss did not improve from 0.51171\n",
            "Epoch 8/50\n",
            "186/186 [==============================] - 78s 420ms/step - loss: 0.2804 - accuracy: 0.9052 - val_loss: 0.6007 - val_accuracy: 0.8125\n",
            "\n",
            "Epoch 00008: val_loss did not improve from 0.51171\n",
            "Epoch 9/50\n",
            "186/186 [==============================] - 78s 418ms/step - loss: 0.2469 - accuracy: 0.9097 - val_loss: 0.6696 - val_accuracy: 0.7500\n",
            "\n",
            "Epoch 00009: val_loss did not improve from 0.51171\n",
            "Epoch 10/50\n",
            "186/186 [==============================] - 78s 421ms/step - loss: 0.2407 - accuracy: 0.9127 - val_loss: 0.7075 - val_accuracy: 0.8125\n",
            "\n",
            "Epoch 00010: val_loss did not improve from 0.51171\n",
            "Epoch 11/50\n",
            "186/186 [==============================] - 78s 421ms/step - loss: 0.2369 - accuracy: 0.9206 - val_loss: 0.4807 - val_accuracy: 0.8750\n",
            "\n",
            "Epoch 00011: val_loss improved from 0.51171 to 0.48071, saving model to weights-improvement.hdf5\n",
            "Epoch 12/50\n",
            "186/186 [==============================] - 78s 421ms/step - loss: 0.2202 - accuracy: 0.9202 - val_loss: 0.6087 - val_accuracy: 0.8125\n",
            "\n",
            "Epoch 00012: val_loss did not improve from 0.48071\n",
            "Epoch 13/50\n",
            "186/186 [==============================] - 78s 419ms/step - loss: 0.2176 - accuracy: 0.9269 - val_loss: 0.5539 - val_accuracy: 0.7500\n",
            "\n",
            "Epoch 00013: val_loss did not improve from 0.48071\n",
            "Epoch 14/50\n",
            "186/186 [==============================] - 79s 422ms/step - loss: 0.2055 - accuracy: 0.9261 - val_loss: 0.6059 - val_accuracy: 0.6875\n",
            "\n",
            "Epoch 00014: val_loss did not improve from 0.48071\n",
            "Epoch 15/50\n",
            "186/186 [==============================] - 79s 423ms/step - loss: 0.1926 - accuracy: 0.9330 - val_loss: 0.5109 - val_accuracy: 0.8125\n",
            "\n",
            "Epoch 00015: val_loss did not improve from 0.48071\n",
            "Epoch 16/50\n",
            "186/186 [==============================] - 79s 422ms/step - loss: 0.1846 - accuracy: 0.9338 - val_loss: 0.3858 - val_accuracy: 0.9375\n",
            "\n",
            "Epoch 00016: val_loss improved from 0.48071 to 0.38584, saving model to weights-improvement.hdf5\n",
            "Epoch 17/50\n",
            "186/186 [==============================] - 79s 422ms/step - loss: 0.1875 - accuracy: 0.9375 - val_loss: 0.3763 - val_accuracy: 0.8125\n",
            "\n",
            "Epoch 00017: val_loss improved from 0.38584 to 0.37628, saving model to weights-improvement.hdf5\n",
            "Epoch 18/50\n",
            "186/186 [==============================] - 79s 424ms/step - loss: 0.1796 - accuracy: 0.9402 - val_loss: 1.6586 - val_accuracy: 0.5625\n",
            "\n",
            "Epoch 00018: val_loss did not improve from 0.37628\n",
            "Epoch 19/50\n",
            "186/186 [==============================] - 78s 419ms/step - loss: 0.1811 - accuracy: 0.9378 - val_loss: 1.2964 - val_accuracy: 0.6250\n",
            "\n",
            "Epoch 00019: val_loss did not improve from 0.37628\n",
            "Epoch 20/50\n",
            "186/186 [==============================] - 78s 418ms/step - loss: 0.1881 - accuracy: 0.9403 - val_loss: 0.9701 - val_accuracy: 0.6250\n",
            "\n",
            "Epoch 00020: val_loss did not improve from 0.37628\n",
            "Epoch 21/50\n",
            "186/186 [==============================] - 78s 419ms/step - loss: 0.1825 - accuracy: 0.9365 - val_loss: 1.4607 - val_accuracy: 0.5625\n",
            "\n",
            "Epoch 00021: val_loss did not improve from 0.37628\n",
            "Epoch 22/50\n",
            "186/186 [==============================] - 78s 420ms/step - loss: 0.1594 - accuracy: 0.9507 - val_loss: 0.5125 - val_accuracy: 0.8125\n",
            "\n",
            "Epoch 00022: val_loss did not improve from 0.37628\n",
            "Epoch 23/50\n",
            "186/186 [==============================] - 79s 423ms/step - loss: 0.1576 - accuracy: 0.9473 - val_loss: 1.7050 - val_accuracy: 0.5625\n",
            "\n",
            "Epoch 00023: val_loss did not improve from 0.37628\n",
            "Epoch 24/50\n",
            "186/186 [==============================] - 78s 420ms/step - loss: 0.1701 - accuracy: 0.9509 - val_loss: 0.7727 - val_accuracy: 0.6875\n",
            "\n",
            "Epoch 00024: val_loss did not improve from 0.37628\n",
            "Epoch 25/50\n",
            "186/186 [==============================] - 78s 420ms/step - loss: 0.1506 - accuracy: 0.9516 - val_loss: 0.7925 - val_accuracy: 0.6875\n",
            "\n",
            "Epoch 00025: val_loss did not improve from 0.37628\n",
            "Epoch 26/50\n",
            "186/186 [==============================] - 78s 421ms/step - loss: 0.1624 - accuracy: 0.9494 - val_loss: 0.5018 - val_accuracy: 0.8125\n",
            "\n",
            "Epoch 00026: val_loss did not improve from 0.37628\n",
            "Epoch 27/50\n",
            "186/186 [==============================] - 78s 422ms/step - loss: 0.1498 - accuracy: 0.9564 - val_loss: 0.4750 - val_accuracy: 0.7500\n",
            "\n",
            "Epoch 00027: val_loss did not improve from 0.37628\n",
            "Epoch 28/50\n",
            "186/186 [==============================] - 78s 420ms/step - loss: 0.1525 - accuracy: 0.9489 - val_loss: 1.0207 - val_accuracy: 0.6250\n",
            "\n",
            "Epoch 00028: val_loss did not improve from 0.37628\n",
            "Epoch 29/50\n",
            "186/186 [==============================] - 79s 422ms/step - loss: 0.1445 - accuracy: 0.9517 - val_loss: 0.4233 - val_accuracy: 0.8125\n",
            "\n",
            "Epoch 00029: val_loss did not improve from 0.37628\n",
            "Epoch 30/50\n",
            "186/186 [==============================] - 78s 421ms/step - loss: 0.1453 - accuracy: 0.9492 - val_loss: 3.1565 - val_accuracy: 0.6250\n",
            "\n",
            "Epoch 00030: val_loss did not improve from 0.37628\n",
            "Epoch 31/50\n",
            "186/186 [==============================] - 78s 419ms/step - loss: 0.1921 - accuracy: 0.9531 - val_loss: 0.3621 - val_accuracy: 0.8750\n",
            "\n",
            "Epoch 00031: val_loss improved from 0.37628 to 0.36215, saving model to weights-improvement.hdf5\n",
            "Epoch 32/50\n",
            "186/186 [==============================] - 78s 417ms/step - loss: 0.1499 - accuracy: 0.9512 - val_loss: 1.2378 - val_accuracy: 0.6250\n",
            "\n",
            "Epoch 00032: val_loss did not improve from 0.36215\n",
            "Epoch 33/50\n",
            "186/186 [==============================] - 78s 417ms/step - loss: 0.1506 - accuracy: 0.9491 - val_loss: 0.5944 - val_accuracy: 0.6875\n",
            "\n",
            "Epoch 00033: val_loss did not improve from 0.36215\n",
            "Epoch 34/50\n",
            "186/186 [==============================] - 77s 415ms/step - loss: 0.1422 - accuracy: 0.9514 - val_loss: 0.8380 - val_accuracy: 0.6875\n",
            "\n",
            "Epoch 00034: val_loss did not improve from 0.36215\n",
            "Epoch 35/50\n",
            "186/186 [==============================] - 78s 419ms/step - loss: 0.1463 - accuracy: 0.9534 - val_loss: 0.8736 - val_accuracy: 0.6250\n",
            "\n",
            "Epoch 00035: val_loss did not improve from 0.36215\n",
            "Epoch 36/50\n",
            "186/186 [==============================] - 78s 419ms/step - loss: 0.1310 - accuracy: 0.9572 - val_loss: 0.7312 - val_accuracy: 0.6250\n",
            "\n",
            "Epoch 00036: val_loss did not improve from 0.36215\n",
            "Epoch 37/50\n",
            "186/186 [==============================] - 78s 418ms/step - loss: 0.1411 - accuracy: 0.9538 - val_loss: 0.3032 - val_accuracy: 0.9375\n",
            "\n",
            "Epoch 00037: val_loss improved from 0.36215 to 0.30324, saving model to weights-improvement.hdf5\n",
            "Epoch 38/50\n",
            "186/186 [==============================] - 77s 415ms/step - loss: 0.1284 - accuracy: 0.9595 - val_loss: 0.8092 - val_accuracy: 0.6250\n",
            "\n",
            "Epoch 00038: val_loss did not improve from 0.30324\n",
            "Epoch 39/50\n",
            "186/186 [==============================] - 78s 419ms/step - loss: 0.1304 - accuracy: 0.9547 - val_loss: 0.3319 - val_accuracy: 0.9375\n",
            "\n",
            "Epoch 00039: val_loss did not improve from 0.30324\n",
            "Epoch 40/50\n",
            "186/186 [==============================] - 78s 417ms/step - loss: 0.1460 - accuracy: 0.9552 - val_loss: 0.4600 - val_accuracy: 0.6875\n",
            "\n",
            "Epoch 00040: val_loss did not improve from 0.30324\n",
            "Epoch 41/50\n",
            "186/186 [==============================] - 78s 417ms/step - loss: 0.1284 - accuracy: 0.9596 - val_loss: 1.0232 - val_accuracy: 0.5625\n",
            "\n",
            "Epoch 00041: val_loss did not improve from 0.30324\n",
            "Epoch 42/50\n",
            "186/186 [==============================] - 78s 419ms/step - loss: 0.1411 - accuracy: 0.9570 - val_loss: 0.6194 - val_accuracy: 0.6875\n",
            "\n",
            "Epoch 00042: val_loss did not improve from 0.30324\n",
            "Epoch 43/50\n",
            "186/186 [==============================] - 78s 421ms/step - loss: 0.1256 - accuracy: 0.9607 - val_loss: 0.6904 - val_accuracy: 0.6250\n",
            "\n",
            "Epoch 00043: val_loss did not improve from 0.30324\n",
            "Epoch 44/50\n",
            "186/186 [==============================] - 78s 421ms/step - loss: 0.1413 - accuracy: 0.9516 - val_loss: 0.3553 - val_accuracy: 0.8125\n",
            "\n",
            "Epoch 00044: val_loss did not improve from 0.30324\n",
            "Epoch 45/50\n",
            "186/186 [==============================] - 78s 421ms/step - loss: 0.1334 - accuracy: 0.9612 - val_loss: 0.8525 - val_accuracy: 0.6250\n",
            "\n",
            "Epoch 00045: val_loss did not improve from 0.30324\n",
            "Epoch 46/50\n",
            "186/186 [==============================] - 78s 420ms/step - loss: 0.1471 - accuracy: 0.9513 - val_loss: 0.9994 - val_accuracy: 0.6250\n",
            "\n",
            "Epoch 00046: val_loss did not improve from 0.30324\n",
            "Epoch 47/50\n",
            "186/186 [==============================] - 78s 422ms/step - loss: 0.1506 - accuracy: 0.9540 - val_loss: 0.4911 - val_accuracy: 0.6875\n",
            "\n",
            "Epoch 00047: val_loss did not improve from 0.30324\n",
            "Epoch 48/50\n",
            "186/186 [==============================] - 79s 422ms/step - loss: 0.1360 - accuracy: 0.9595 - val_loss: 0.5465 - val_accuracy: 0.6250\n",
            "\n",
            "Epoch 00048: val_loss did not improve from 0.30324\n",
            "Epoch 49/50\n",
            "186/186 [==============================] - 78s 420ms/step - loss: 0.1404 - accuracy: 0.9574 - val_loss: 0.2674 - val_accuracy: 0.9375\n",
            "\n",
            "Epoch 00049: val_loss improved from 0.30324 to 0.26742, saving model to weights-improvement.hdf5\n",
            "Epoch 50/50\n",
            "186/186 [==============================] - 78s 419ms/step - loss: 0.1270 - accuracy: 0.9630 - val_loss: 0.3880 - val_accuracy: 0.8125\n",
            "\n",
            "Epoch 00050: val_loss did not improve from 0.26742\n"
          ],
          "name": "stdout"
        }
      ]
    },
    {
      "cell_type": "code",
      "metadata": {
        "colab": {
          "base_uri": "https://localhost:8080/",
          "height": 283
        },
        "id": "fXS4hZ7VY_c0",
        "outputId": "8e6fcabb-0767-4bb3-98e9-931c1070679f"
      },
      "source": [
        "def plot(history,figsize,y,x):\n",
        "    history_dict=history.history\n",
        "    loss=history_dict[y]\n",
        "    acc=history_dict[x]\n",
        "    epoch=range(1,len(acc)+1)\n",
        "    plt.figure(figsize=figsize)\n",
        "    plt.plot(epoch,loss,'bo',label='Training loss')\n",
        "    plt.plot(epoch,acc,'r',label='Training accuracy')\n",
        "    plt.xlabel('Epoches')\n",
        "    plt.ylabel('loss')\n",
        "    plt.legend()\n",
        "plot(train_history,(12,4),y='loss',x='accuracy')\n"
      ],
      "execution_count": 32,
      "outputs": [
        {
          "output_type": "display_data",
          "data": {
            "image/png": "[encoded data removed]",
            "text/plain": [
              "<Figure size 864x288 with 1 Axes>"
            ]
          },
          "metadata": {
            "tags": [],
            "needs_background": "light"
          }
        }
      ]
    },
    {
      "cell_type": "code",
      "metadata": {
        "colab": {
          "base_uri": "https://localhost:8080/"
        },
        "id": "T2k3v8qAqaqK",
        "outputId": "97d3b09f-6549-43bf-b186-70cfffa2d9cf"
      },
      "source": [
        "def test(test_set):\n",
        "    results = model.evaluate(test_set)\n",
        "    return results\n",
        "\n",
        "results=test(test_set)\n",
        "print(\"test set resulat is\",results)\n"
      ],
      "execution_count": 33,
      "outputs": [
        {
          "output_type": "stream",
          "text": [
            "23/23 [==============================] - 6s 255ms/step - loss: 0.3172 - accuracy: 0.9167\n",
            "test set resulat is [0.31722578406333923, 0.9166666865348816]\n"
          ],
          "name": "stdout"
        }
      ]
    },
    {
      "cell_type": "code",
      "metadata": {
        "colab": {
          "base_uri": "https://localhost:8080/"
        },
        "id": "BMsDHo6a02BE",
        "outputId": "6df8b197-7314-468e-cc3d-7af7290ac3e3"
      },
      "source": [
        " def save(name):\n",
        "     model.save(name)\n",
        "\n",
        "save(\"pne_conv\")"
      ],
      "execution_count": 34,
      "outputs": [
        {
          "output_type": "stream",
          "text": [
            "INFO:tensorflow:Assets written to: pne_conv/assets\n"
          ],
          "name": "stdout"
        }
      ]
    },
    {
      "cell_type": "code",
      "metadata": {
        "id": "O59O-6IVlAk-"
      },
      "source": [
        "model.load_weights(\"weights-improvement.hdf5\")"
      ],
      "execution_count": 35,
      "outputs": []
    },
    {
      "cell_type": "code",
      "metadata": {
        "id": "B369vNaalAk-"
      },
      "source": [
        "    model.compile(optimizer=optimizers.RMSprop(lr=0.0006),loss='binary_crossentropy',metrics=['accuracy'])\n"
      ],
      "execution_count": 36,
      "outputs": []
    },
    {
      "cell_type": "code",
      "metadata": {
        "id": "i0LpZD2slAk_",
        "colab": {
          "base_uri": "https://localhost:8080/"
        },
        "outputId": "79765d7a-713d-4e86-d82a-026d8b11ce82"
      },
      "source": [
        "def test_best(test_set):\n",
        "    results = model.evaluate(test_set)\n",
        "    return results\n",
        "\n",
        "results=test_best(test_set)\n",
        "print(\"test set resulat is\",results)"
      ],
      "execution_count": 37,
      "outputs": [
        {
          "output_type": "stream",
          "text": [
            "23/23 [==============================] - 6s 248ms/step - loss: 0.2985 - accuracy: 0.9142\n",
            "test set resulat is [0.23533958196640015, 0.9310897588729858]\n"
          ],
          "name": "stdout"
        }
      ]
    },
    {
      "cell_type": "code",
      "metadata": {
        "id": "AKV1FtsylAlA"
      },
      "source": [
        ""
      ],
      "execution_count": 37,
      "outputs": []
    }
  ]
}